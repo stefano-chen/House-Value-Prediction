{
 "cells": [
  {
   "cell_type": "markdown",
   "metadata": {
    "id": "-XTj8nNY01jI"
   },
   "source": [
    "# House Value Prediction Model Selection\n",
    "This notebook is used to perform Model Selection on the dataset provided by the real estate agency"
   ]
  },
  {
   "cell_type": "code",
   "execution_count": 1,
   "metadata": {},
   "outputs": [
    {
     "name": "stdout",
     "output_type": "stream",
     "text": [
      "Model Selection\n"
     ]
    }
   ],
   "source": [
    "print(\"Model Selection\")"
   ]
  }
 ],
 "metadata": {
  "colab": {
   "authorship_tag": "ABX9TyNPHidPRkv9cVW2CnfjLREG",
   "provenance": []
  },
  "kernelspec": {
   "display_name": ".venv",
   "language": "python",
   "name": "python3"
  },
  "language_info": {
   "codemirror_mode": {
    "name": "ipython",
    "version": 3
   },
   "file_extension": ".py",
   "mimetype": "text/x-python",
   "name": "python",
   "nbconvert_exporter": "python",
   "pygments_lexer": "ipython3",
   "version": "3.12.6"
  }
 },
 "nbformat": 4,
 "nbformat_minor": 0
}
