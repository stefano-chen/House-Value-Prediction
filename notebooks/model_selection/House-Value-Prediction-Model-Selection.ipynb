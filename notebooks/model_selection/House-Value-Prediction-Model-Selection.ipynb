{
 "cells": [
  {
   "cell_type": "markdown",
   "metadata": {
    "id": "-XTj8nNY01jI"
   },
   "source": [
    "# House Value Prediction Model Selection\n",
    "This notebook is used to perform Model Selection on the dataset provided by the real estate agency\\\n",
    "Each model used in this notebook is instantiated using the default parameters\\\n",
    "The evaluation metrics used are:\n",
    "1. Root Mean Square Error (**RMSE**)\n",
    "2. Mean Absolute Percentage Error (**MAPE**)"
   ]
  },
  {
   "cell_type": "markdown",
   "metadata": {},
   "source": [
    "# Install Dependecies"
   ]
  },
  {
   "cell_type": "code",
   "execution_count": 1,
   "metadata": {},
   "outputs": [
    {
     "name": "stdout",
     "output_type": "stream",
     "text": [
      "Requirement already satisfied: pandas in c:\\users\\admin\\desktop\\house-value-prediction\\.venv\\lib\\site-packages (2.2.3)\n",
      "Requirement already satisfied: scikit-learn in c:\\users\\admin\\desktop\\house-value-prediction\\.venv\\lib\\site-packages (1.6.1)\n",
      "Requirement already satisfied: matplotlib in c:\\users\\admin\\desktop\\house-value-prediction\\.venv\\lib\\site-packages (3.10.1)\n",
      "Requirement already satisfied: numpy>=1.26.0 in c:\\users\\admin\\desktop\\house-value-prediction\\.venv\\lib\\site-packages (from pandas) (2.2.5)\n",
      "Requirement already satisfied: python-dateutil>=2.8.2 in c:\\users\\admin\\desktop\\house-value-prediction\\.venv\\lib\\site-packages (from pandas) (2.9.0.post0)\n",
      "Requirement already satisfied: pytz>=2020.1 in c:\\users\\admin\\desktop\\house-value-prediction\\.venv\\lib\\site-packages (from pandas) (2025.2)\n",
      "Requirement already satisfied: tzdata>=2022.7 in c:\\users\\admin\\desktop\\house-value-prediction\\.venv\\lib\\site-packages (from pandas) (2025.2)\n",
      "Requirement already satisfied: scipy>=1.6.0 in c:\\users\\admin\\desktop\\house-value-prediction\\.venv\\lib\\site-packages (from scikit-learn) (1.15.2)\n",
      "Requirement already satisfied: joblib>=1.2.0 in c:\\users\\admin\\desktop\\house-value-prediction\\.venv\\lib\\site-packages (from scikit-learn) (1.4.2)\n",
      "Requirement already satisfied: threadpoolctl>=3.1.0 in c:\\users\\admin\\desktop\\house-value-prediction\\.venv\\lib\\site-packages (from scikit-learn) (3.6.0)\n",
      "Requirement already satisfied: contourpy>=1.0.1 in c:\\users\\admin\\desktop\\house-value-prediction\\.venv\\lib\\site-packages (from matplotlib) (1.3.2)\n",
      "Requirement already satisfied: cycler>=0.10 in c:\\users\\admin\\desktop\\house-value-prediction\\.venv\\lib\\site-packages (from matplotlib) (0.12.1)\n",
      "Requirement already satisfied: fonttools>=4.22.0 in c:\\users\\admin\\desktop\\house-value-prediction\\.venv\\lib\\site-packages (from matplotlib) (4.57.0)\n",
      "Requirement already satisfied: kiwisolver>=1.3.1 in c:\\users\\admin\\desktop\\house-value-prediction\\.venv\\lib\\site-packages (from matplotlib) (1.4.8)\n",
      "Requirement already satisfied: packaging>=20.0 in c:\\users\\admin\\desktop\\house-value-prediction\\.venv\\lib\\site-packages (from matplotlib) (25.0)\n",
      "Requirement already satisfied: pillow>=8 in c:\\users\\admin\\desktop\\house-value-prediction\\.venv\\lib\\site-packages (from matplotlib) (11.2.1)\n",
      "Requirement already satisfied: pyparsing>=2.3.1 in c:\\users\\admin\\desktop\\house-value-prediction\\.venv\\lib\\site-packages (from matplotlib) (3.2.3)\n",
      "Requirement already satisfied: six>=1.5 in c:\\users\\admin\\desktop\\house-value-prediction\\.venv\\lib\\site-packages (from python-dateutil>=2.8.2->pandas) (1.17.0)\n",
      "Note: you may need to restart the kernel to use updated packages.\n"
     ]
    }
   ],
   "source": [
    "%pip install pandas scikit-learn matplotlib"
   ]
  },
  {
   "cell_type": "markdown",
   "metadata": {},
   "source": [
    "# Load the Training Dataset"
   ]
  },
  {
   "cell_type": "code",
   "execution_count": null,
   "metadata": {},
   "outputs": [
    {
     "name": "stdout",
     "output_type": "stream",
     "text": [
      "Dataset shape: (20640, 16)\n",
      "X train shape: (16512, 15)\n",
      "Y test shape: (16512,)\n"
     ]
    },
    {
     "data": {
      "text/plain": [
       "count     20640.000000\n",
       "mean     206855.816909\n",
       "std      115395.615874\n",
       "min       14999.000000\n",
       "25%      119600.000000\n",
       "50%      179700.000000\n",
       "75%      264725.000000\n",
       "max      500001.000000\n",
       "Name: Median_House_Value, dtype: float64"
      ]
     },
     "execution_count": 2,
     "metadata": {},
     "output_type": "execute_result"
    }
   ],
   "source": [
    "import pandas as pd\n",
    "from pathlib import Path\n",
    "from sklearn.model_selection import train_test_split\n",
    "\n",
    "dataset_path = Path(\"../../dataset/processed/California_Houses_Processed.csv\") # Change this to the path of your dataset\n",
    "\n",
    "houses_df = pd.read_csv(dataset_path)\n",
    "\n",
    "# Training Data\n",
    "x = houses_df.drop(columns=[\"Median_House_Value\"], inplace=False)\n",
    "# Target (Label)\n",
    "y = houses_df[\"Median_House_Value\"]\n",
    "\n",
    "x_train, x_test, y_train, y_test = train_test_split(x, y, test_size=0.2, random_state=42)\n",
    "\n",
    "\n",
    "print(f'Dataset shape: {houses_df.shape}')\n",
    "print(f'X train shape: {x_train.shape}')\n",
    "print(f'Y train shape: {y_train.shape}')\n",
    "\n",
    "houses_df[\"Median_House_Value\"].describe()"
   ]
  },
  {
   "cell_type": "markdown",
   "metadata": {},
   "source": [
    "# Load the Data Preprocessing Pipeline"
   ]
  },
  {
   "cell_type": "code",
   "execution_count": 3,
   "metadata": {},
   "outputs": [
    {
     "name": "stdout",
     "output_type": "stream",
     "text": [
      "['C:\\\\Users\\\\Admin\\\\AppData\\\\Local\\\\Programs\\\\Python\\\\Python312\\\\python312.zip', 'C:\\\\Users\\\\Admin\\\\AppData\\\\Local\\\\Programs\\\\Python\\\\Python312\\\\DLLs', 'C:\\\\Users\\\\Admin\\\\AppData\\\\Local\\\\Programs\\\\Python\\\\Python312\\\\Lib', 'C:\\\\Users\\\\Admin\\\\AppData\\\\Local\\\\Programs\\\\Python\\\\Python312', 'c:\\\\Users\\\\Admin\\\\Desktop\\\\House-Value-Prediction\\\\.venv', '', 'c:\\\\Users\\\\Admin\\\\Desktop\\\\House-Value-Prediction\\\\.venv\\\\Lib\\\\site-packages', 'c:\\\\Users\\\\Admin\\\\Desktop\\\\House-Value-Prediction\\\\.venv\\\\Lib\\\\site-packages\\\\win32', 'c:\\\\Users\\\\Admin\\\\Desktop\\\\House-Value-Prediction\\\\.venv\\\\Lib\\\\site-packages\\\\win32\\\\lib', 'c:\\\\Users\\\\Admin\\\\Desktop\\\\House-Value-Prediction\\\\.venv\\\\Lib\\\\site-packages\\\\Pythonwin', 'c:\\\\Users\\\\Admin\\\\Desktop\\\\House-Value-Prediction\\\\scripts']\n",
      "Pipeline(steps=[('impute', SimpleImputer()),\n",
      "                ('column transformer',\n",
      "                 ColumnTransformer(remainder='passthrough',\n",
      "                                   transformers=[('log transformation',\n",
      "                                                  FunctionTransformer(feature_names_out='one-to-one',\n",
      "                                                                      func=<ufunc 'log'>),\n",
      "                                                  ['Population', 'Households',\n",
      "                                                   'Median_Income'])])),\n",
      "                ('standard scaler', StandardScaler())])\n"
     ]
    }
   ],
   "source": [
    "import os\n",
    "import sys\n",
    "\n",
    "module_path = os.path.abspath(os.path.join('..','..', 'scripts'))\n",
    "\n",
    "if module_path not in sys.path:\n",
    "    sys.path.append(module_path)\n",
    "\n",
    "print(sys.path)\n",
    "\n",
    "from data_preprocessing import get_preprocessing_pipeline\n",
    "\n",
    "preprocessing_pipeline = get_preprocessing_pipeline()\n",
    "\n",
    "print(preprocessing_pipeline)"
   ]
  },
  {
   "cell_type": "markdown",
   "metadata": {},
   "source": [
    "# Linear Regression Model (The Baseline)\n",
    "We going to use a simple **Linear Regression Model** as the baseline"
   ]
  },
  {
   "cell_type": "code",
   "execution_count": 4,
   "metadata": {},
   "outputs": [
    {
     "name": "stdout",
     "output_type": "stream",
     "text": [
      "count       10.000000\n",
      "mean     70392.697413\n",
      "std       2425.402952\n",
      "min      67625.431537\n",
      "25%      68344.591427\n",
      "50%      69835.057726\n",
      "75%      72299.077396\n",
      "max      74505.783715\n",
      "dtype: float64\n",
      "\n",
      "count    10.000000\n",
      "mean      0.322158\n",
      "std       0.008791\n",
      "min       0.305502\n",
      "25%       0.316849\n",
      "50%       0.321716\n",
      "75%       0.329786\n",
      "max       0.332899\n",
      "dtype: float64\n"
     ]
    }
   ],
   "source": [
    "from sklearn.linear_model import LinearRegression\n",
    "from sklearn.pipeline import make_pipeline\n",
    "from sklearn.model_selection import cross_val_score\n",
    "import pandas as pd\n",
    "\n",
    "lin_reg = make_pipeline(preprocessing_pipeline, LinearRegression())\n",
    "\n",
    "lin_reg_rmse = -cross_val_score(lin_reg, x_train, y_train, scoring=\"neg_root_mean_squared_error\", cv=10)\n",
    "lin_reg_mape = -cross_val_score(lin_reg, x_train, y_train, scoring=\"neg_mean_absolute_percentage_error\", cv=10)\n",
    "\n",
    "\n",
    "print(pd.Series(lin_reg_rmse).describe(), end=\"\\n\\n\")\n",
    "print(pd.Series(lin_reg_mape).describe())\n"
   ]
  },
  {
   "cell_type": "markdown",
   "metadata": {},
   "source": [
    "# Decision Tree Model"
   ]
  },
  {
   "cell_type": "code",
   "execution_count": 5,
   "metadata": {},
   "outputs": [
    {
     "name": "stdout",
     "output_type": "stream",
     "text": [
      "count       10.000000\n",
      "mean     64971.675609\n",
      "std       3228.471197\n",
      "min      60458.640609\n",
      "25%      63156.821136\n",
      "50%      64564.355163\n",
      "75%      66854.462546\n",
      "max      71251.552471\n",
      "dtype: float64\n",
      "\n",
      "count    10.000000\n",
      "mean      0.219764\n",
      "std       0.010598\n",
      "min       0.206445\n",
      "25%       0.211668\n",
      "50%       0.220984\n",
      "75%       0.224403\n",
      "max       0.242037\n",
      "dtype: float64\n"
     ]
    }
   ],
   "source": [
    "from sklearn.tree import DecisionTreeRegressor\n",
    "from sklearn.pipeline import make_pipeline\n",
    "from sklearn.model_selection import cross_val_score\n",
    "import pandas as pd\n",
    "\n",
    "decision_tree = make_pipeline(preprocessing_pipeline, DecisionTreeRegressor(random_state=42))\n",
    "\n",
    "decision_tree_rmse = -cross_val_score(decision_tree, x_train, y_train, scoring=\"neg_root_mean_squared_error\", cv=10)\n",
    "decision_tree_mape = -cross_val_score(decision_tree, x_train, y_train, scoring=\"neg_mean_absolute_percentage_error\", cv=10)\n",
    "\n",
    "print(pd.Series(decision_tree_rmse).describe(), end=\"\\n\\n\")\n",
    "print(pd.Series(decision_tree_mape).describe())"
   ]
  },
  {
   "cell_type": "markdown",
   "metadata": {},
   "source": [
    "# KNN Model"
   ]
  },
  {
   "cell_type": "code",
   "execution_count": 6,
   "metadata": {},
   "outputs": [
    {
     "name": "stdout",
     "output_type": "stream",
     "text": [
      "count       10.000000\n",
      "mean     56934.594711\n",
      "std       1501.691813\n",
      "min      55051.995309\n",
      "25%      55865.788209\n",
      "50%      56767.780669\n",
      "75%      58021.926180\n",
      "max      59137.508071\n",
      "dtype: float64\n",
      "\n",
      "count    10.000000\n",
      "mean      0.202048\n",
      "std       0.005286\n",
      "min       0.194073\n",
      "25%       0.197858\n",
      "50%       0.204268\n",
      "75%       0.206317\n",
      "max       0.207618\n",
      "dtype: float64\n"
     ]
    }
   ],
   "source": [
    "from sklearn.neighbors import KNeighborsRegressor\n",
    "from sklearn.pipeline import make_pipeline\n",
    "from sklearn.model_selection import cross_val_score\n",
    "import pandas as pd\n",
    "\n",
    "knn = make_pipeline(preprocessing_pipeline, KNeighborsRegressor())\n",
    "knn_rmse = -cross_val_score(knn, x_train, y_train, scoring=\"neg_root_mean_squared_error\", cv=10)\n",
    "knn_mape = -cross_val_score(knn, x_train, y_train, scoring=\"neg_mean_absolute_percentage_error\", cv=10)\n",
    "\n",
    "\n",
    "print(pd.Series(knn_rmse).describe(), end=\"\\n\\n\")\n",
    "print(pd.Series(knn_mape).describe())"
   ]
  },
  {
   "cell_type": "markdown",
   "metadata": {},
   "source": [
    "# SVM Model"
   ]
  },
  {
   "cell_type": "code",
   "execution_count": 7,
   "metadata": {},
   "outputs": [
    {
     "name": "stdout",
     "output_type": "stream",
     "text": [
      "count        10.000000\n",
      "mean     118491.276748\n",
      "std        2126.886412\n",
      "min      114442.265248\n",
      "25%      117136.059800\n",
      "50%      119415.092264\n",
      "75%      119663.084555\n",
      "max      121312.879189\n",
      "dtype: float64\n",
      "\n",
      "count    10.000000\n",
      "mean      0.523741\n",
      "std       0.014123\n",
      "min       0.497916\n",
      "25%       0.519682\n",
      "50%       0.525412\n",
      "75%       0.532236\n",
      "max       0.545556\n",
      "dtype: float64\n"
     ]
    }
   ],
   "source": [
    "from sklearn.svm import SVR\n",
    "from sklearn.pipeline import make_pipeline\n",
    "from sklearn.model_selection import cross_val_score\n",
    "import pandas as pd\n",
    "\n",
    "svm = make_pipeline(preprocessing_pipeline, SVR())\n",
    "svm_rmse = -cross_val_score(svm, x_train, y_train, scoring=\"neg_root_mean_squared_error\", cv=10)\n",
    "svm_mape = -cross_val_score(svm, x_train, y_train, scoring=\"neg_mean_absolute_percentage_error\", cv=10)\n",
    "\n",
    "\n",
    "print(pd.Series(svm_rmse).describe(), end=\"\\n\\n\")\n",
    "print(pd.Series(svm_mape).describe())"
   ]
  },
  {
   "cell_type": "markdown",
   "metadata": {},
   "source": [
    "# Random Forest Model"
   ]
  },
  {
   "cell_type": "code",
   "execution_count": 8,
   "metadata": {},
   "outputs": [
    {
     "name": "stdout",
     "output_type": "stream",
     "text": [
      "count       10.000000\n",
      "mean     46060.226282\n",
      "std       1941.880320\n",
      "min      43025.709777\n",
      "25%      44485.685539\n",
      "50%      46519.149493\n",
      "75%      47401.716032\n",
      "max      48741.739114\n",
      "dtype: float64\n",
      "\n",
      "count    10.000000\n",
      "mean      0.160933\n",
      "std       0.006316\n",
      "min       0.149174\n",
      "25%       0.158761\n",
      "50%       0.162356\n",
      "75%       0.166173\n",
      "max       0.166634\n",
      "dtype: float64\n"
     ]
    }
   ],
   "source": [
    "from sklearn.ensemble import RandomForestRegressor\n",
    "from sklearn.pipeline import make_pipeline\n",
    "from sklearn.model_selection import cross_val_score\n",
    "import pandas as pd\n",
    "\n",
    "random_forest = make_pipeline(preprocessing_pipeline, RandomForestRegressor(random_state=42, n_jobs=-1)) # n_jobs=-1 means using all processors\n",
    "\n",
    "random_forest_rmse = -cross_val_score(random_forest, x_train, y_train, scoring=\"neg_root_mean_squared_error\", cv=10)\n",
    "random_forest_mape = -cross_val_score(random_forest, x_train, y_train, scoring=\"neg_mean_absolute_percentage_error\", cv=10)\n",
    "\n",
    "\n",
    "print(pd.Series(random_forest_rmse).describe(), end=\"\\n\\n\")\n",
    "print(pd.Series(random_forest_mape).describe())"
   ]
  },
  {
   "cell_type": "markdown",
   "metadata": {},
   "source": [
    "# Results\n",
    "After comparing the **RMSE** and the **MAPE** of all considered models, we decided to implement the House Value Prediction System using a **Random Forest Model**"
   ]
  },
  {
   "cell_type": "code",
   "execution_count": 9,
   "metadata": {},
   "outputs": [
    {
     "data": {
      "image/png": "[encoded data removed]",
      "text/plain": [
       "<Figure size 1500x500 with 2 Axes>"
      ]
     },
     "metadata": {},
     "output_type": "display_data"
    }
   ],
   "source": [
    "import matplotlib.pyplot as plt\n",
    "\n",
    "fig, (ax1, ax2) = plt.subplots(1,2, figsize=(15,5))\n",
    "\n",
    "ax1.plot(lin_reg_rmse, \"red\", label=\"Linear Regression\")\n",
    "ax1.plot(decision_tree_rmse, \"blue\", label=\"Decision Tree\")\n",
    "ax1.plot(knn_rmse, \"green\", label=\"KNN\")\n",
    "ax1.plot(svm_rmse, \"pink\", label=\"SVM\")\n",
    "ax1.plot(random_forest_rmse, \"magenta\", label=\"Random Forest\")\n",
    "ax1.legend(loc=(0.6,0.55))\n",
    "ax1.set_xlabel(\"Folds\")\n",
    "ax1.set_ylabel(\"RMSE\")\n",
    "\n",
    "ax2.plot(lin_reg_mape, \"red\", label=\"Linear Regression\")\n",
    "ax2.plot(decision_tree_mape, \"blue\", label=\"Decision Tree\")\n",
    "ax2.plot(knn_mape, \"green\", label=\"KNN\")\n",
    "ax2.plot(svm_mape, \"pink\", label=\"SVM\")\n",
    "ax2.plot(random_forest_mape, \"magenta\", label=\"Random Forest\")\n",
    "ax2.legend(loc=(0.6,0.55))\n",
    "ax2.set_xlabel(\"Folds\")\n",
    "ax2.set_ylabel(\"MAPE\")\n",
    "plt.show()"
   ]
  }
 ],
 "metadata": {
  "colab": {
   "authorship_tag": "ABX9TyNPHidPRkv9cVW2CnfjLREG",
   "provenance": []
  },
  "kernelspec": {
   "display_name": ".venv",
   "language": "python",
   "name": "python3"
  },
  "language_info": {
   "codemirror_mode": {
    "name": "ipython",
    "version": 3
   },
   "file_extension": ".py",
   "mimetype": "text/x-python",
   "name": "python",
   "nbconvert_exporter": "python",
   "pygments_lexer": "ipython3",
   "version": "3.12.6"
  }
 },
 "nbformat": 4,
 "nbformat_minor": 0
}
