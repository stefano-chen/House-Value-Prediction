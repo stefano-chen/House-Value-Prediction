{
 "cells": [
  {
   "cell_type": "markdown",
   "metadata": {
    "id": "-XTj8nNY01jI"
   },
   "source": [
    "# House Value Prediction Model Selection\n",
    "This notebook is used to perform Model Selection on the dataset provided by the real estate agency\\\n",
    "Each model used in this notebook is instantiated using the default parameters\\\n",
    "The evaluation metrics used are:\n",
    "1. Root Mean Square Error (**RMSE**)\n",
    "2. Mean Absolute Percentage Error (**MAPE**)"
   ]
  },
  {
   "cell_type": "markdown",
   "metadata": {},
   "source": [
    "# Install Dependecies"
   ]
  },
  {
   "cell_type": "code",
   "execution_count": 1,
   "metadata": {},
   "outputs": [
    {
     "name": "stdout",
     "output_type": "stream",
     "text": [
      "Requirement already satisfied: pandas in c:\\users\\admin\\desktop\\house-value-prediction\\.venv\\lib\\site-packages (2.2.3)\n",
      "Requirement already satisfied: scikit-learn in c:\\users\\admin\\desktop\\house-value-prediction\\.venv\\lib\\site-packages (1.6.1)\n",
      "Requirement already satisfied: matplotlib in c:\\users\\admin\\desktop\\house-value-prediction\\.venv\\lib\\site-packages (3.10.1)\n",
      "Requirement already satisfied: numpy>=1.26.0 in c:\\users\\admin\\desktop\\house-value-prediction\\.venv\\lib\\site-packages (from pandas) (2.2.5)\n",
      "Requirement already satisfied: python-dateutil>=2.8.2 in c:\\users\\admin\\desktop\\house-value-prediction\\.venv\\lib\\site-packages (from pandas) (2.9.0.post0)\n",
      "Requirement already satisfied: pytz>=2020.1 in c:\\users\\admin\\desktop\\house-value-prediction\\.venv\\lib\\site-packages (from pandas) (2025.2)\n",
      "Requirement already satisfied: tzdata>=2022.7 in c:\\users\\admin\\desktop\\house-value-prediction\\.venv\\lib\\site-packages (from pandas) (2025.2)\n",
      "Requirement already satisfied: scipy>=1.6.0 in c:\\users\\admin\\desktop\\house-value-prediction\\.venv\\lib\\site-packages (from scikit-learn) (1.15.2)\n",
      "Requirement already satisfied: joblib>=1.2.0 in c:\\users\\admin\\desktop\\house-value-prediction\\.venv\\lib\\site-packages (from scikit-learn) (1.4.2)\n",
      "Requirement already satisfied: threadpoolctl>=3.1.0 in c:\\users\\admin\\desktop\\house-value-prediction\\.venv\\lib\\site-packages (from scikit-learn) (3.6.0)\n",
      "Requirement already satisfied: contourpy>=1.0.1 in c:\\users\\admin\\desktop\\house-value-prediction\\.venv\\lib\\site-packages (from matplotlib) (1.3.2)\n",
      "Requirement already satisfied: cycler>=0.10 in c:\\users\\admin\\desktop\\house-value-prediction\\.venv\\lib\\site-packages (from matplotlib) (0.12.1)\n",
      "Requirement already satisfied: fonttools>=4.22.0 in c:\\users\\admin\\desktop\\house-value-prediction\\.venv\\lib\\site-packages (from matplotlib) (4.57.0)\n",
      "Requirement already satisfied: kiwisolver>=1.3.1 in c:\\users\\admin\\desktop\\house-value-prediction\\.venv\\lib\\site-packages (from matplotlib) (1.4.8)\n",
      "Requirement already satisfied: packaging>=20.0 in c:\\users\\admin\\desktop\\house-value-prediction\\.venv\\lib\\site-packages (from matplotlib) (25.0)\n",
      "Requirement already satisfied: pillow>=8 in c:\\users\\admin\\desktop\\house-value-prediction\\.venv\\lib\\site-packages (from matplotlib) (11.2.1)\n",
      "Requirement already satisfied: pyparsing>=2.3.1 in c:\\users\\admin\\desktop\\house-value-prediction\\.venv\\lib\\site-packages (from matplotlib) (3.2.3)\n",
      "Requirement already satisfied: six>=1.5 in c:\\users\\admin\\desktop\\house-value-prediction\\.venv\\lib\\site-packages (from python-dateutil>=2.8.2->pandas) (1.17.0)\n",
      "Note: you may need to restart the kernel to use updated packages.\n"
     ]
    },
    {
     "name": "stderr",
     "output_type": "stream",
     "text": [
      "\n",
      "[notice] A new release of pip is available: 25.0.1 -> 25.1\n",
      "[notice] To update, run: python.exe -m pip install --upgrade pip\n"
     ]
    }
   ],
   "source": [
    "%pip install pandas scikit-learn matplotlib"
   ]
  },
  {
   "cell_type": "markdown",
   "metadata": {},
   "source": [
    "# Load the Training Dataset"
   ]
  },
  {
   "cell_type": "code",
   "execution_count": 2,
   "metadata": {},
   "outputs": [
    {
     "name": "stdout",
     "output_type": "stream",
     "text": [
      "Dataset shape: (20640, 15)\n",
      "X train shape: (16512, 14)\n",
      "Y train shape: (16512,)\n"
     ]
    },
    {
     "data": {
      "text/plain": [
       "count     20640.000000\n",
       "mean     206855.816909\n",
       "std      115395.615874\n",
       "min       14999.000000\n",
       "25%      119600.000000\n",
       "50%      179700.000000\n",
       "75%      264725.000000\n",
       "max      500001.000000\n",
       "Name: Median_House_Value, dtype: float64"
      ]
     },
     "execution_count": 2,
     "metadata": {},
     "output_type": "execute_result"
    }
   ],
   "source": [
    "import pandas as pd\n",
    "from pathlib import Path\n",
    "from sklearn.model_selection import train_test_split\n",
    "\n",
    "dataset_path = Path(\"../../dataset/processed/California_Houses_Processed.csv\") # Change this to the path of your dataset\n",
    "\n",
    "houses_df = pd.read_csv(dataset_path)\n",
    "\n",
    "# Training Data\n",
    "x = houses_df.drop(columns=[\"Median_House_Value\"], inplace=False)\n",
    "# Target (Label)\n",
    "y = houses_df[\"Median_House_Value\"]\n",
    "\n",
    "x_train, x_test, y_train, y_test = train_test_split(x, y, test_size=0.2, random_state=42)\n",
    "\n",
    "\n",
    "print(f'Dataset shape: {houses_df.shape}')\n",
    "print(f'X train shape: {x_train.shape}')\n",
    "print(f'Y train shape: {y_train.shape}')\n",
    "\n",
    "houses_df[\"Median_House_Value\"].describe()"
   ]
  },
  {
   "cell_type": "markdown",
   "metadata": {},
   "source": [
    "# Load the Data Preprocessing Pipeline"
   ]
  },
  {
   "cell_type": "code",
   "execution_count": 3,
   "metadata": {},
   "outputs": [
    {
     "name": "stdout",
     "output_type": "stream",
     "text": [
      "['C:\\\\Users\\\\Admin\\\\AppData\\\\Local\\\\Programs\\\\Python\\\\Python312\\\\python312.zip', 'C:\\\\Users\\\\Admin\\\\AppData\\\\Local\\\\Programs\\\\Python\\\\Python312\\\\DLLs', 'C:\\\\Users\\\\Admin\\\\AppData\\\\Local\\\\Programs\\\\Python\\\\Python312\\\\Lib', 'C:\\\\Users\\\\Admin\\\\AppData\\\\Local\\\\Programs\\\\Python\\\\Python312', 'c:\\\\Users\\\\Admin\\\\Desktop\\\\House-Value-Prediction\\\\.venv', '', 'c:\\\\Users\\\\Admin\\\\Desktop\\\\House-Value-Prediction\\\\.venv\\\\Lib\\\\site-packages', 'c:\\\\Users\\\\Admin\\\\Desktop\\\\House-Value-Prediction\\\\.venv\\\\Lib\\\\site-packages\\\\win32', 'c:\\\\Users\\\\Admin\\\\Desktop\\\\House-Value-Prediction\\\\.venv\\\\Lib\\\\site-packages\\\\win32\\\\lib', 'c:\\\\Users\\\\Admin\\\\Desktop\\\\House-Value-Prediction\\\\.venv\\\\Lib\\\\site-packages\\\\Pythonwin', 'c:\\\\Users\\\\Admin\\\\Desktop\\\\House-Value-Prediction\\\\scripts']\n",
      "Pipeline(steps=[('impute', SimpleImputer()),\n",
      "                ('column transformer',\n",
      "                 ColumnTransformer(remainder='passthrough',\n",
      "                                   transformers=[('log transformation',\n",
      "                                                  FunctionTransformer(feature_names_out='one-to-one',\n",
      "                                                                      func=<ufunc 'log'>),\n",
      "                                                  ['Population', 'Households',\n",
      "                                                   'Median_Income'])])),\n",
      "                ('standard scaler', StandardScaler())])\n"
     ]
    }
   ],
   "source": [
    "import os\n",
    "import sys\n",
    "\n",
    "module_path = os.path.abspath(os.path.join('..','..', 'scripts'))\n",
    "\n",
    "if module_path not in sys.path:\n",
    "    sys.path.append(module_path)\n",
    "\n",
    "print(sys.path)\n",
    "\n",
    "from data_preprocessing import get_preprocessing_pipeline\n",
    "\n",
    "preprocessing_pipeline = get_preprocessing_pipeline()\n",
    "\n",
    "print(preprocessing_pipeline)"
   ]
  },
  {
   "cell_type": "markdown",
   "metadata": {},
   "source": [
    "# Linear Regression Model (The Baseline)\n",
    "We going to use a simple **Linear Regression Model** as the baseline"
   ]
  },
  {
   "cell_type": "code",
   "execution_count": 4,
   "metadata": {},
   "outputs": [
    {
     "name": "stdout",
     "output_type": "stream",
     "text": [
      "count       10.000000\n",
      "mean     70697.932389\n",
      "std       2352.397762\n",
      "min      67945.594397\n",
      "25%      68609.586550\n",
      "50%      70220.803991\n",
      "75%      72740.764439\n",
      "max      74496.755610\n",
      "dtype: float64\n",
      "\n",
      "count    10.000000\n",
      "mean      0.324701\n",
      "std       0.009462\n",
      "min       0.306143\n",
      "25%       0.320517\n",
      "50%       0.323583\n",
      "75%       0.333438\n",
      "max       0.335673\n",
      "dtype: float64\n"
     ]
    }
   ],
   "source": [
    "from sklearn.linear_model import LinearRegression\n",
    "from sklearn.pipeline import make_pipeline\n",
    "from sklearn.model_selection import cross_val_score\n",
    "import pandas as pd\n",
    "\n",
    "lin_reg = make_pipeline(preprocessing_pipeline, LinearRegression())\n",
    "\n",
    "lin_reg_rmse = -cross_val_score(lin_reg, x_train, y_train, scoring=\"neg_root_mean_squared_error\", cv=10)\n",
    "lin_reg_mape = -cross_val_score(lin_reg, x_train, y_train, scoring=\"neg_mean_absolute_percentage_error\", cv=10)\n",
    "\n",
    "\n",
    "print(pd.Series(lin_reg_rmse).describe(), end=\"\\n\\n\")\n",
    "print(pd.Series(lin_reg_mape).describe())\n"
   ]
  },
  {
   "cell_type": "markdown",
   "metadata": {},
   "source": [
    "# Decision Tree Model"
   ]
  },
  {
   "cell_type": "code",
   "execution_count": 6,
   "metadata": {},
   "outputs": [
    {
     "name": "stdout",
     "output_type": "stream",
     "text": [
      "count       10.000000\n",
      "mean     64977.108230\n",
      "std       2781.332751\n",
      "min      61507.807374\n",
      "25%      62833.655227\n",
      "50%      65196.799670\n",
      "75%      65937.348972\n",
      "max      70533.403758\n",
      "dtype: float64\n",
      "\n",
      "count    10.000000\n",
      "mean      0.220455\n",
      "std       0.008745\n",
      "min       0.208273\n",
      "25%       0.216406\n",
      "50%       0.219059\n",
      "75%       0.223944\n",
      "max       0.236372\n",
      "dtype: float64\n"
     ]
    }
   ],
   "source": [
    "from sklearn.tree import DecisionTreeRegressor\n",
    "from sklearn.pipeline import make_pipeline\n",
    "from sklearn.model_selection import cross_val_score\n",
    "import pandas as pd\n",
    "\n",
    "decision_tree = make_pipeline(preprocessing_pipeline, DecisionTreeRegressor(random_state=42))\n",
    "\n",
    "decision_tree_rmse = -cross_val_score(decision_tree, x_train, y_train, scoring=\"neg_root_mean_squared_error\", cv=10)\n",
    "decision_tree_mape = -cross_val_score(decision_tree, x_train, y_train, scoring=\"neg_mean_absolute_percentage_error\", cv=10)\n",
    "\n",
    "print(pd.Series(decision_tree_rmse).describe(), end=\"\\n\\n\")\n",
    "print(pd.Series(decision_tree_mape).describe())"
   ]
  },
  {
   "cell_type": "markdown",
   "metadata": {},
   "source": [
    "# KNN Model"
   ]
  },
  {
   "cell_type": "code",
   "execution_count": 7,
   "metadata": {},
   "outputs": [
    {
     "name": "stdout",
     "output_type": "stream",
     "text": [
      "count       10.000000\n",
      "mean     58798.134375\n",
      "std       1717.975365\n",
      "min      56274.934971\n",
      "25%      57804.866917\n",
      "50%      58270.577642\n",
      "75%      60148.429753\n",
      "max      61612.214507\n",
      "dtype: float64\n",
      "\n",
      "count    10.000000\n",
      "mean      0.210730\n",
      "std       0.006280\n",
      "min       0.200469\n",
      "25%       0.206556\n",
      "50%       0.212671\n",
      "75%       0.214716\n",
      "max       0.219109\n",
      "dtype: float64\n"
     ]
    }
   ],
   "source": [
    "from sklearn.neighbors import KNeighborsRegressor\n",
    "from sklearn.pipeline import make_pipeline\n",
    "from sklearn.model_selection import cross_val_score\n",
    "import pandas as pd\n",
    "\n",
    "knn = make_pipeline(preprocessing_pipeline, KNeighborsRegressor())\n",
    "knn_rmse = -cross_val_score(knn, x_train, y_train, scoring=\"neg_root_mean_squared_error\", cv=10)\n",
    "knn_mape = -cross_val_score(knn, x_train, y_train, scoring=\"neg_mean_absolute_percentage_error\", cv=10)\n",
    "\n",
    "\n",
    "print(pd.Series(knn_rmse).describe(), end=\"\\n\\n\")\n",
    "print(pd.Series(knn_mape).describe())"
   ]
  },
  {
   "cell_type": "markdown",
   "metadata": {},
   "source": [
    "# SVM Model"
   ]
  },
  {
   "cell_type": "code",
   "execution_count": 8,
   "metadata": {},
   "outputs": [
    {
     "name": "stdout",
     "output_type": "stream",
     "text": [
      "count        10.000000\n",
      "mean     118463.069960\n",
      "std        2125.508964\n",
      "min      114413.121775\n",
      "25%      117109.311851\n",
      "50%      119397.602597\n",
      "75%      119621.873403\n",
      "max      121279.053278\n",
      "dtype: float64\n",
      "\n",
      "count    10.000000\n",
      "mean      0.523411\n",
      "std       0.014109\n",
      "min       0.497545\n",
      "25%       0.519370\n",
      "50%       0.524994\n",
      "75%       0.531903\n",
      "max       0.545108\n",
      "dtype: float64\n"
     ]
    }
   ],
   "source": [
    "from sklearn.svm import SVR\n",
    "from sklearn.pipeline import make_pipeline\n",
    "from sklearn.model_selection import cross_val_score\n",
    "import pandas as pd\n",
    "\n",
    "svm = make_pipeline(preprocessing_pipeline, SVR())\n",
    "svm_rmse = -cross_val_score(svm, x_train, y_train, scoring=\"neg_root_mean_squared_error\", cv=10)\n",
    "svm_mape = -cross_val_score(svm, x_train, y_train, scoring=\"neg_mean_absolute_percentage_error\", cv=10)\n",
    "\n",
    "\n",
    "print(pd.Series(svm_rmse).describe(), end=\"\\n\\n\")\n",
    "print(pd.Series(svm_mape).describe())"
   ]
  },
  {
   "cell_type": "markdown",
   "metadata": {},
   "source": [
    "# Random Forest Model"
   ]
  },
  {
   "cell_type": "code",
   "execution_count": 9,
   "metadata": {},
   "outputs": [
    {
     "name": "stdout",
     "output_type": "stream",
     "text": [
      "count       10.000000\n",
      "mean     46866.379314\n",
      "std       1780.626713\n",
      "min      44116.373831\n",
      "25%      45452.344399\n",
      "50%      47240.698057\n",
      "75%      47753.927953\n",
      "max      49317.551903\n",
      "dtype: float64\n",
      "\n",
      "count    10.000000\n",
      "mean      0.164250\n",
      "std       0.006021\n",
      "min       0.153201\n",
      "25%       0.161650\n",
      "50%       0.165821\n",
      "75%       0.169094\n",
      "max       0.170453\n",
      "dtype: float64\n"
     ]
    }
   ],
   "source": [
    "from sklearn.ensemble import RandomForestRegressor\n",
    "from sklearn.pipeline import make_pipeline\n",
    "from sklearn.model_selection import cross_val_score\n",
    "import pandas as pd\n",
    "\n",
    "random_forest = make_pipeline(preprocessing_pipeline, RandomForestRegressor(random_state=42, n_jobs=-1)) # n_jobs=-1 means using all processors\n",
    "\n",
    "random_forest_rmse = -cross_val_score(random_forest, x_train, y_train, scoring=\"neg_root_mean_squared_error\", cv=10)\n",
    "random_forest_mape = -cross_val_score(random_forest, x_train, y_train, scoring=\"neg_mean_absolute_percentage_error\", cv=10)\n",
    "\n",
    "\n",
    "print(pd.Series(random_forest_rmse).describe(), end=\"\\n\\n\")\n",
    "print(pd.Series(random_forest_mape).describe())"
   ]
  },
  {
   "cell_type": "markdown",
   "metadata": {},
   "source": [
    "# Results\n",
    "After comparing the **RMSE** and the **MAPE** of all considered models, we decided to implement the House Value Prediction System using a **Random Forest Model**"
   ]
  },
  {
   "cell_type": "code",
   "execution_count": 10,
   "metadata": {},
   "outputs": [
    {
     "data": {
      "image/png": "[encoded data removed]",
      "text/plain": [
       "<Figure size 1500x500 with 2 Axes>"
      ]
     },
     "metadata": {},
     "output_type": "display_data"
    }
   ],
   "source": [
    "import matplotlib.pyplot as plt\n",
    "\n",
    "fig, (ax1, ax2) = plt.subplots(1,2, figsize=(15,5))\n",
    "\n",
    "ax1.plot(lin_reg_rmse, \"red\", label=\"Linear Regression\")\n",
    "ax1.plot(decision_tree_rmse, \"blue\", label=\"Decision Tree\")\n",
    "ax1.plot(knn_rmse, \"green\", label=\"KNN\")\n",
    "ax1.plot(svm_rmse, \"pink\", label=\"SVM\")\n",
    "ax1.plot(random_forest_rmse, \"magenta\", label=\"Random Forest\")\n",
    "ax1.legend(loc=(0.6,0.55))\n",
    "ax1.set_xlabel(\"Folds\")\n",
    "ax1.set_ylabel(\"RMSE\")\n",
    "\n",
    "ax2.plot(lin_reg_mape, \"red\", label=\"Linear Regression\")\n",
    "ax2.plot(decision_tree_mape, \"blue\", label=\"Decision Tree\")\n",
    "ax2.plot(knn_mape, \"green\", label=\"KNN\")\n",
    "ax2.plot(svm_mape, \"pink\", label=\"SVM\")\n",
    "ax2.plot(random_forest_mape, \"magenta\", label=\"Random Forest\")\n",
    "ax2.legend(loc=(0.6,0.55))\n",
    "ax2.set_xlabel(\"Folds\")\n",
    "ax2.set_ylabel(\"MAPE\")\n",
    "plt.show()"
   ]
  }
 ],
 "metadata": {
  "colab": {
   "authorship_tag": "ABX9TyNPHidPRkv9cVW2CnfjLREG",
   "provenance": []
  },
  "kernelspec": {
   "display_name": ".venv",
   "language": "python",
   "name": "python3"
  },
  "language_info": {
   "codemirror_mode": {
    "name": "ipython",
    "version": 3
   },
   "file_extension": ".py",
   "mimetype": "text/x-python",
   "name": "python",
   "nbconvert_exporter": "python",
   "pygments_lexer": "ipython3",
   "version": "3.12.6"
  }
 },
 "nbformat": 4,
 "nbformat_minor": 0
}
